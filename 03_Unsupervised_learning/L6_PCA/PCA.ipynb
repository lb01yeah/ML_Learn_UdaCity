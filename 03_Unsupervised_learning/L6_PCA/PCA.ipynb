{
 "cells": [
  {
   "cell_type": "markdown",
   "metadata": {},
   "source": [
    "## PCA主成分分析principle Component Analysis\n",
    "PCA是一种特征选择方法，可将一组相关的变量转变为一组基础正交变量。\n",
    "- PCA擅长处理坐标系的位移和旋转问题\n",
    "### 用于数据转换的PCA\n",
    "  对于任何形状的数据，PCA会从旧坐标系统仅通过转化和轮换获得新坐标系统。根据数据中心，主成分析法，会帮你找到合适的坐标轴。\n"
   ]
  }
 ],
 "metadata": {
  "kernelspec": {
   "display_name": "Python 3",
   "language": "python",
   "name": "python3"
  },
  "language_info": {
   "codemirror_mode": {
    "name": "ipython",
    "version": 3
   },
   "file_extension": ".py",
   "mimetype": "text/x-python",
   "name": "python",
   "nbconvert_exporter": "python",
   "pygments_lexer": "ipython3",
   "version": "3.7.0"
  }
 },
 "nbformat": 4,
 "nbformat_minor": 2
}
