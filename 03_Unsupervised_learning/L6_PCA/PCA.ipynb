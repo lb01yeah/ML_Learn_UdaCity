{
 "cells": [
  {
   "cell_type": "markdown",
   "metadata": {},
   "source": [
    "## PCA主成分分析principle Component Analysis\n",
    "PCA是将输入特征转化为主成分的系统化方式。将转化后的主成分数据用于回归或分类任务中的新特征，主成分的定义是数据中会使方差最大化的方向。  \n",
    "一种特征选择方法，可将一组相关的变量转变为一组基础正交变量。达到降维的目的，等价于将协方差矩阵对角化：即除对角线外的其他元素化为0，并且在对角线上将元素按大小从上到下排列，这样我们就达到了优化目的。\n",
    "- PCA擅长处理坐标系的位移和旋转问题\n",
    "- PCA算法的目标：方差max，协方差min！！\n",
    "\n",
    "### 用于数据转换的PCA\n",
    "  对于任何形状的数据，PCA会从旧坐标系统仅通过转化和轮换获得新坐标系统。根据数据中心，主成分析法，会帮你找到合适的坐标轴。\n",
    "  \n",
    "### 将 PCA 应用到实际数据\n",
    "在以下几段视频中，Katie 和 Sebastian 研究安然的一些财务数据，并着眼于 PCA 的应用。\n",
    "\n",
    "请记住，要获得包含项目代码的版本库以及此数据集，请访问以下网址：\n",
    "\n",
    "https://github.com/udacity/ud120-projects\n",
    "\n",
    "安然数据位于：[final_project/](https://github.com/udacity/ud120-projects/tree/master/final_project)\n"
   ]
  },
  {
   "cell_type": "code",
   "execution_count": null,
   "metadata": {},
   "outputs": [],
   "source": []
  }
 ],
 "metadata": {
  "kernelspec": {
   "display_name": "Python 3",
   "language": "python",
   "name": "python3"
  },
  "language_info": {
   "codemirror_mode": {
    "name": "ipython",
    "version": 3
   },
   "file_extension": ".py",
   "mimetype": "text/x-python",
   "name": "python",
   "nbconvert_exporter": "python",
   "pygments_lexer": "ipython3",
   "version": "3.6.5"
  }
 },
 "nbformat": 4,
 "nbformat_minor": 2
}
