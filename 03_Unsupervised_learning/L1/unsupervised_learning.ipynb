{
 "cells": [
  {
   "cell_type": "markdown",
   "metadata": {},
   "source": [
    "## 非监督学习unsupervised learning\n",
    "现实中的数据大多是没有标签的，不能像监督学习那样。所以要进行聚类，降维等操作\n",
    "clumps簇\n",
    "clusters聚类\n",
    "dimensions 大小尺寸\n",
    "dimensionality 维度\n",
    "dimensionality reduction 降维\n",
    "- K均值聚类 KMeans clustering\n",
    "- 层次聚类 hierarchical clustering\n",
    "- 密度聚类 density clustering\n",
    " > DBSCAN   \n",
    " 具有噪声的基于密度的聚类方法Density-based spatial clustering of applications with noise\n",
    " 指的是把密集聚类的点分为同一个类，其它的点标记为噪声\n",
    " \n"
   ]
  },
  {
   "cell_type": "markdown",
   "metadata": {},
   "source": [
    "## KMeans K-均值聚类\n",
    "特别是对提前知道了类簇的数量的时候，特别有效。\n",
    "K均值聚类方法求解过程的本质是在寻找球形或者超球面形类的本质。\n",
    "\n",
    "缺点：\n",
    "当面对长条形的数据集时候，不能有效的分类。因为这个是由“把类定义到质心的距离的弊端”引起的。"
   ]
  },
  {
   "cell_type": "code",
   "execution_count": null,
   "metadata": {},
   "outputs": [],
   "source": []
  }
 ],
 "metadata": {
  "kernelspec": {
   "display_name": "Python 3",
   "language": "python",
   "name": "python3"
  },
  "language_info": {
   "codemirror_mode": {
    "name": "ipython",
    "version": 3
   },
   "file_extension": ".py",
   "mimetype": "text/x-python",
   "name": "python",
   "nbconvert_exporter": "python",
   "pygments_lexer": "ipython3",
   "version": "3.6.5"
  }
 },
 "nbformat": 4,
 "nbformat_minor": 2
}
