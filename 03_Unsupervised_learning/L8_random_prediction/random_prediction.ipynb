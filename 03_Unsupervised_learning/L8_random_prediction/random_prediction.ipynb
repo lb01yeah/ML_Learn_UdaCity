{
 "cells": [
  {
   "cell_type": "markdown",
   "metadata": {},
   "source": [
    "有高斯随机投影也有稀疏随机投影\n",
    "\n",
    "### 独立成分分析ICA（independent component analysis）\n",
    "可以解决盲源分离的问题\n",
    "文献:[ \"独立成分分析：算法与应用\" (pdf)](https://s3.cn-north-1.amazonaws.com.cn/static-documents/nd101/MLND+documents/10.1.1.322.679.pdf)  \n",
    "```\n",
    "from sklearn.decomposition import FastICA\n",
    "# each 'signal' variable is an array.\n",
    "# e.g audio waveform\n",
    "X = list(zip(signal_1,signal_2,signal_3)\n",
    "ica = FastICA(n_components=3)\n",
    "components = ica.fit_transform(X)\n",
    "\n",
    "```\n",
    "ICA 广泛应用于医学扫描仪"
   ]
  },
  {
   "cell_type": "code",
   "execution_count": null,
   "metadata": {},
   "outputs": [],
   "source": []
  }
 ],
 "metadata": {
  "kernelspec": {
   "display_name": "Python 3",
   "language": "python",
   "name": "python3"
  },
  "language_info": {
   "codemirror_mode": {
    "name": "ipython",
    "version": 3
   },
   "file_extension": ".py",
   "mimetype": "text/x-python",
   "name": "python",
   "nbconvert_exporter": "python",
   "pygments_lexer": "ipython3",
   "version": "3.6.5"
  }
 },
 "nbformat": 4,
 "nbformat_minor": 2
}
