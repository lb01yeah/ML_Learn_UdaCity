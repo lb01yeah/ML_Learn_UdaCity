{
 "cells": [
  {
   "cell_type": "markdown",
   "metadata": {},
   "source": [
    "### 不要混淆k-近邻算法和k均值聚类\n",
    "- k-近邻算法是一种分类算法，是监督学习的一个子集\n",
    "- k-means是一种聚类算法，是非监督学习的一个子集\n",
    "\n",
    "### 监督学习与非监督学习不同\n",
    "- 关键点不同是否知道预测结果。\n",
    "> 监督学习需要训练标记的数据，可以知道我们预测的结果。  \n",
    "无监督算法中数据点未被标记，不一定知道我们预测的结果\n",
    "\n"
   ]
  },
  {
   "cell_type": "code",
   "execution_count": null,
   "metadata": {},
   "outputs": [],
   "source": []
  }
 ],
 "metadata": {
  "kernelspec": {
   "display_name": "Python 3",
   "language": "python",
   "name": "python3"
  },
  "language_info": {
   "codemirror_mode": {
    "name": "ipython",
    "version": 3
   },
   "file_extension": ".py",
   "mimetype": "text/x-python",
   "name": "python",
   "nbconvert_exporter": "python",
   "pygments_lexer": "ipython3",
   "version": "3.6.5"
  }
 },
 "nbformat": 4,
 "nbformat_minor": 2
}
