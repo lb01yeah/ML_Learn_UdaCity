{
 "cells": [
  {
   "cell_type": "markdown",
   "metadata": {},
   "source": [
    "## Decision Trees 决策树"
   ]
  },
  {
   "cell_type": "markdown",
   "metadata": {},
   "source": [
    "## 熵Entropy\n",
    " - 集合越稳固，或者越具有同类性，其熵越低。\n",
    " - 知识：知识越高，熵越低（熵和知识相反）\n",
    " - 积的对数log,等于各自对数的和 log(ab)=log(a) + log(b)"
   ]
  },
  {
   "cell_type": "markdown",
   "metadata": {},
   "source": [
    "## 信息增益 information Gain\n",
    "- information Gain = change in entropy  （信息增益 = 熵的变化值）  \n",
    "  Information Gain = Entropy(parent)-1/2\\[Entropy(child1)+Entropy(child2)\\] 即：父节点的熵减去子节点的熵的均值\n",
    "- 信息增益最大化，越大越好"
   ]
  },
  {
   "cell_type": "markdown",
   "metadata": {},
   "source": [
    "## 随机森林 Random Forests\n",
    "- 随机选择几列构建决策树"
   ]
  },
  {
   "cell_type": "code",
   "execution_count": null,
   "metadata": {},
   "outputs": [],
   "source": []
  }
 ],
 "metadata": {
  "kernelspec": {
   "display_name": "Python 3",
   "language": "python",
   "name": "python3"
  },
  "language_info": {
   "codemirror_mode": {
    "name": "ipython",
    "version": 3
   },
   "file_extension": ".py",
   "mimetype": "text/x-python",
   "name": "python",
   "nbconvert_exporter": "python",
   "pygments_lexer": "ipython3",
   "version": "3.6.5"
  }
 },
 "nbformat": 4,
 "nbformat_minor": 2
}
