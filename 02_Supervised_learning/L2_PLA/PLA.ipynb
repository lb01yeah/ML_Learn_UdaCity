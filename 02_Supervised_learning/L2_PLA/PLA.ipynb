{
 "cells": [
  {
   "cell_type": "code",
   "execution_count": 9,
   "metadata": {},
   "outputs": [
    {
     "data": {
      "text/plain": [
       "[(array([0.48362544]), array([-1.95449024])),\n",
       " (array([9.10277537]), array([-5.00100673])),\n",
       " (array([28.8600399]), array([-13.27174751])),\n",
       " (array([-263.48940357]), array([116.67013803])),\n",
       " (array([-25.4998568]), array([11.45662525])),\n",
       " (array([-15.40285747]), array([7.38857212])),\n",
       " (array([-11.54586438]), array([5.62391428])),\n",
       " (array([-9.17605628]), array([4.53967576])),\n",
       " (array([-7.54394054]), array([3.79543777])),\n",
       " (array([-6.37159103]), array([3.26085126])),\n",
       " (array([-5.53261374]), array([2.88431077])),\n",
       " (array([-4.86733724]), array([2.58572874])),\n",
       " (array([-4.53736477]), array([2.58376103])),\n",
       " (array([-4.13972129]), array([2.4008903])),\n",
       " (array([-3.79464524]), array([2.24219461])),\n",
       " (array([-3.49235898]), array([2.10317734])),\n",
       " (array([-3.2253682]), array([1.98039198])),\n",
       " (array([-2.98783215]), array([1.87115244])),\n",
       " (array([-2.77513141]), array([1.77333432])),\n",
       " (array([-2.58356455]), array([1.68523537])),\n",
       " (array([-2.41013085]), array([1.60547562])),\n",
       " (array([-2.25237202]), array([1.53292452])),\n",
       " (array([-2.10825489]), array([1.46664705])),\n",
       " (array([-1.97608338]), array([1.4058632])),\n",
       " (array([-1.85443134]), array([1.34991711]))]"
      ]
     },
     "execution_count": 9,
     "metadata": {},
     "output_type": "execute_result"
    }
   ],
   "source": [
    "import numpy as np\n",
    "# Setting the random seed, feel free to change it and see different solutions.\n",
    "np.random.seed(12)\n",
    "\n",
    "def stepFunction(t):\n",
    "    if t >= 0:\n",
    "        return 1\n",
    "    return 0\n",
    "\n",
    "def prediction(X, W, b):\n",
    "    return stepFunction((np.matmul(X,W)+b)[0])\n",
    "\n",
    "# TODO: Fill in the code below to implement the perceptron trick.\n",
    "# The function should receive as inputs the data X, the labels y,\n",
    "# the weights W (as an array), and the bias b,\n",
    "# update the weights and bias W, b, according to the perceptron algorithm,\n",
    "# and return W and b.\n",
    "def perceptronStep(X, y, W, b, learn_rate = 0.01):\n",
    "    # Fill in code\n",
    "    for i in range(len(X)):\n",
    "        y_hat = prediction(X[i],W,b)\n",
    "        if y[i]-y_hat == 1:\n",
    "            W[0] += X[i][0]*learn_rate\n",
    "            W[1] += X[i][1]*learn_rate\n",
    "            b += learn_rate\n",
    "        elif y[i]-y_hat == -1:\n",
    "            W[0] -= X[i][0]*learn_rate\n",
    "            W[1] -= X[i][1]*learn_rate\n",
    "            b -= learn_rate\n",
    "    return W, b\n",
    "    \n",
    "# This function runs the perceptron algorithm repeatedly on the dataset,\n",
    "# and returns a few of the boundary lines obtained in the iterations,\n",
    "# for plotting purposes.\n",
    "# Feel free to play with the learning rate and the num_epochs,\n",
    "# and see your results plotted below.\n",
    "def trainPerceptronAlgorithm(X, y, learn_rate = 0.01, num_epochs = 25):\n",
    "    x_min, x_max = min(X.T[0]), max(X.T[0])\n",
    "    y_min, y_max = min(X.T[1]), max(X.T[1])\n",
    "    W = np.array(np.random.rand(2,1))\n",
    "    #print(W.shape)\n",
    "    #print(W)\n",
    "    b = np.random.rand(1)[0] + x_max\n",
    "    # These are the solution lines that get plotted below.\n",
    "    boundary_lines = []\n",
    "    for i in range(num_epochs):\n",
    "        # In each epoch, we apply the perceptron step.\n",
    "        W, b = perceptronStep(X, y, W, b, learn_rate)\n",
    "        boundary_lines.append((-W[0]/W[1], -b/W[1]))\n",
    "    return boundary_lines\n",
    "\n",
    "import pandas as pd\n",
    "data_df = pd.read_csv(\"PLA_data.csv\",header=None)\n",
    "X=np.array(data_df.iloc[:,0:2])\n",
    "#print('X:',X.shape)\n",
    "y=np.array(data_df[2])\n",
    "trainPerceptronAlgorithm(X,y)"
   ]
  },
  {
   "cell_type": "code",
   "execution_count": null,
   "metadata": {},
   "outputs": [],
   "source": []
  }
 ],
 "metadata": {
  "kernelspec": {
   "display_name": "Python 3",
   "language": "python",
   "name": "python3"
  },
  "language_info": {
   "codemirror_mode": {
    "name": "ipython",
    "version": 3
   },
   "file_extension": ".py",
   "mimetype": "text/x-python",
   "name": "python",
   "nbconvert_exporter": "python",
   "pygments_lexer": "ipython3",
   "version": "3.7.0"
  }
 },
 "nbformat": 4,
 "nbformat_minor": 2
}
