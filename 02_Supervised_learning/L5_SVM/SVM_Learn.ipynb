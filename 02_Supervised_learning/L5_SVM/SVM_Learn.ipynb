{
 "cells": [
  {
   "cell_type": "markdown",
   "metadata": {},
   "source": [
    "总误差是分类误差+边际误差，总误差要进行最小化\n",
    "Error = classification error + margin error \n",
    "梯度下降法，将误差最小化 \n",
    "\n",
    "## 分类误差 classification error\n",
    "支持向量机的分类误差：把分类线两边的错误分类点到分类点的距离相加，即得到分类误差。\n",
    "\n",
    "## 边际误差 margin error\n",
    " \n",
    "eg:分割线 wx+b =0 ,上下两条分割线分别为wx+b=1,wx+b=-1  \n",
    "$$ margin=\\frac{2}{\\left |w  \\right |}  $$,注：|w|向量w的模为向量分量w1和w2的平方和的平方根。用这个误差找到较小间隔的最大值，以及较大间隔的最小值。  \n",
    "$$error=\\left |w  \\right |^{2}$$\n",
    "较大间隔代表较小误差，较小间隔代表较大误差。\n",
    "\n",
    "## C 参数\n",
    "在分类误差前面乘以C常数\n"
   ]
  },
  {
   "cell_type": "code",
   "execution_count": null,
   "metadata": {},
   "outputs": [],
   "source": []
  }
 ],
 "metadata": {
  "kernelspec": {
   "display_name": "Python 3",
   "language": "python",
   "name": "python3"
  },
  "language_info": {
   "codemirror_mode": {
    "name": "ipython",
    "version": 3
   },
   "file_extension": ".py",
   "mimetype": "text/x-python",
   "name": "python",
   "nbconvert_exporter": "python",
   "pygments_lexer": "ipython3",
   "version": "3.6.5"
  }
 },
 "nbformat": 4,
 "nbformat_minor": 2
}
