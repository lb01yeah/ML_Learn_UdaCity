{
 "cells": [
  {
   "cell_type": "markdown",
   "metadata": {},
   "source": [
    "### 启动 Jupyter\n",
    "\n",
    "恭喜你！现在你已经有了可以在上面训练神经网络的 GPU 服务器了。\n",
    "\n",
    "在 EC2 实例上：\n",
    "\n",
    "克隆 aind2-cnn 资源库：git clone https://github.com/udacity/aind2-cnn.git  \n",
    "进入资源库目录：cd aind2-cnn  \n",
    "激活新环境：source activate aind2  \n",
    "启动 Jupyter：jupyter notebook --ip=0.0.0.0 --no-browser  \n",
    "查看窗口中的输出，并找到类似于以下代码的代码行：  \n",
    "第一次连接时，将此 URL 复制粘贴到你的浏览器中并使用以下令牌进行登录：   \n",
    "http://0.0.0.0:8888/?token=3156e...  \n",
    "将完整 URL复制粘贴到网络浏览器（Firefox、Safari、Chrome 等）的地址栏中。在转到该网址前，将 0.0.0.0 替换为 EC2 信息中心显示的\"IPv4 Public IP”地址，按下 Enter 键。  \n",
    "\n",
    "你可以通过验证实例是否能运行 Jupyter Notebook，检查一切是否能正常运转。  \n",
    "首先进入文件夹的 cifar10-classification路径，然后点击 cifar10_mlp.ipynb。运行 Notebook 中的所有单元格，确保一切能正常运转。  "
   ]
  },
  {
   "cell_type": "markdown",
   "metadata": {},
   "source": [
    "### Keras中的CNN实例  \n"
   ]
  },
  {
   "cell_type": "code",
   "execution_count": null,
   "metadata": {},
   "outputs": [],
   "source": []
  }
 ],
 "metadata": {
  "kernelspec": {
   "display_name": "Python 3",
   "language": "python",
   "name": "python3"
  },
  "language_info": {
   "codemirror_mode": {
    "name": "ipython",
    "version": 3
   },
   "file_extension": ".py",
   "mimetype": "text/x-python",
   "name": "python",
   "nbconvert_exporter": "python",
   "pygments_lexer": "ipython3",
   "version": "3.6.5"
  }
 },
 "nbformat": 4,
 "nbformat_minor": 2
}
