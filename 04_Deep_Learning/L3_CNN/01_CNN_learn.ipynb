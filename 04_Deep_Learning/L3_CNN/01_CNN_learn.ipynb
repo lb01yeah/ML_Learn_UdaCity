{
 "cells": [
  {
   "cell_type": "markdown",
   "metadata": {},
   "source": [
    "### CNN的应用\n",
    "Convolutional Neural Networks\n",
    "课外资料\n",
    "注：部分资料来自国外 youtube 与 google research.\n",
    "\n",
    "- 了解 [WaveNet](https://deepmind.com/blog/wavenet-generative-model-raw-audio/) 模型。\n",
    "  - 如果你能训练人工智能机器人唱歌，干嘛还训练它聊天？在 2017 年 4 月研究人员使用 WaveNet 模型的变体生成了歌曲。原始论文和演示可以在~~此处~~找到。  \n",
    "\n",
    "- 了解[文本分类 CNN](http://www.wildml.com/2015/12/implementing-a-cnn-for-text-classification-in-tensorflow/)。\n",
    "  - 你或许想注册作者的[深度学习简讯](https://www.getrevue.co/profile/wildml)\n",
    "\n",
    "- 了解 Facebook 的[创新 CNN 方法](https://code.facebook.com/posts/1978007565818999/a-novel-approach-to-neural-machine-translation/)，该方法专门用于解决语言翻译任务，准确率达到了前沿性水平，并且速度是 RNN 模型的 9 倍。\n",
    "\n",
    "- 利用 CNN 和强化学习玩 [Atari 游戏](https://deepmind.com/research/dqn/)。你可以[下载](https://sites.google.com/a/deepmind.com/dqn/)此论文附带的代码。\n",
    "  - 如果你想研究一些（深度强化学习）初学者代码，建议你参阅 Andrej Karpathy 的[帖子](http://karpathy.github.io/2016/05/31/rl/)。\n",
    "\n",
    "- 利用 CNN 玩[看图说词游戏！]\n",
    "  - 此外，还可以参阅[ A.I.Experiments] 网站上的所有其他很酷的实现。别忘了 AutoDraw！\n",
    "\n",
    "- 详细了解[ AlphaGo]。\n",
    "  - 阅读[这篇文章](https://www.technologyreview.com/s/604273/finding-solace-in-defeat-by-artificial-intelligence/?set=604287)，其中提出了一个问题：如果掌控 Go“需要人类直觉”，那么人性受到挑战是什么感觉？_\n",
    "\n",
    "- 观看这些非常酷的视频，其中的无人机都受到 CNN 的支持。\n",
    "  - 这是初创企业 Intelligent Flying Machines (IFM) (Youtube)的访谈。\n",
    "  - 户外自主导航通常都要借助全球定位系统 (GPS)，但是下面的演示展示的是由 CNN 提供技术支持的自主无人机(Youtube)。\n",
    "\n",
    "- 如果你对无人驾驶汽车使用的 CNN 感兴趣，请参阅：\n",
    "  - 我们的无人驾驶汽车工程师纳米学位课程，我们在此项目中对德国交通标志数据集中的标志进行分类。\n",
    "  - 我们的机器学习工程师纳米学位课程，我们在此项目中对街景门牌号数据集中的门牌号进行分类。\n",
    "  - 这些系列博客，其中详细讲述了如何训练用 Python 编写的 CNN，以便生成能够玩“侠盗猎车手”的无人驾驶 AI。\n",
    "\n",
    "- 参阅视频中没有提到的其他应用情形。\n",
    "  - 一些全球最著名的画作被转换成了三维形式，以便视力受损人士也能欣赏。虽然这篇文章没有提到是怎么做到的，我们注意到可以使用 CNN 预测单个图片的深度。\n",
    "  - 参阅这篇关于使用 CNN 确定乳腺癌位置的研究论文(google research)。\n",
    "  - CNN 被用来[拯救濒危物种]！\n",
    "  - 一款叫做 [FaceApp] 的应用使用 CNN 让你在照片中是微笑状态或改变性别"
   ]
  },
  {
   "cell_type": "markdown",
   "metadata": {},
   "source": [
    "### 计算机如何解析图片\n",
    "在学习这节课的过程中，建议你打开参考 Jupyter 记事本。我们将会提供解决方案，但是请尝试自己创建深度学习模型！这段学习体验的价值在很大程度上来自于自己去研究代码。\n",
    "\n",
    "要开始操作，请克隆该[GitHub 资源库](https://github.com/udacity/aind2-cnn) 中的资料，方法是在终端里输入以下命令：\n",
    "<git clone https://github.com/udacity/aind2-cnn.git>  按照 该资源库中的说明操作，设置 Conda 环境并安装必要的依赖项。\n",
    "\n",
    "要打开视频中提到的记事本，请转到 mnist-mlp/ 文件夹并打开 mnist_mlp.ipynb。\n",
    "\n",
    "其他注意事项\n",
    "MNIST 数据库可以说是深度学习领域最著名的数据库！请参阅此[图表](https://www.kaggle.com/benhamner/popular-datasets-over-time/code)，其中展示了一直以来在 [NIPS](https://nips.cc/) 论文中引用的数据集。"
   ]
  },
  {
   "cell_type": "code",
   "execution_count": null,
   "metadata": {},
   "outputs": [],
   "source": []
  }
 ],
 "metadata": {
  "kernelspec": {
   "display_name": "Python 3",
   "language": "python",
   "name": "python3"
  },
  "language_info": {
   "codemirror_mode": {
    "name": "ipython",
    "version": 3
   },
   "file_extension": ".py",
   "mimetype": "text/x-python",
   "name": "python",
   "nbconvert_exporter": "python",
   "pygments_lexer": "ipython3",
   "version": "3.6.5"
  }
 },
 "nbformat": 4,
 "nbformat_minor": 2
}
