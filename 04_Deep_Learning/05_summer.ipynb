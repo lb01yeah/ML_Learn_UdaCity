{
 "cells": [
  {
   "cell_type": "markdown",
   "metadata": {},
   "source": [
    "- 如果一个神经网络有三层大小 (2, 3, 1) 而没有偏置单元，那么我们需要训练多少个权重？(9个)\n",
    "- 以下哪种激活函数更可能导致渐变的梯度？（sigmoid）  \n",
    "  **sigmoid** \\ tanh \\ relu \\  \n",
    "- 设计了CNN架构，且你已经注意到你的模型过拟合，以下哪种情况可以减少过拟合？（减少每个卷积层中的过滤器数量）  \n",
    "  1）增加卷积层的数量  \n",
    "  2）降低每个卷积层中过滤器的大小  \n",
    "  **3）减少每个卷积层中的过滤器数量**  \n",
    "  4）降低每个最大池层中的内核大小   \n",
    " \n",
    "- 确保 CNN分类器能检测在图像数据中各种大小和不同位置的对象的最佳方案是什么？  \n",
    "  1）添加更多最大池化层  \n",
    "  2）添加dropout,并从所有卷积图层中删除‘relu’激活函数。  \n",
    "  3）通过添加包含来自更多类别的对象的图像来扩展训练和验证数据。  \n",
    "  **4）通过增强（augmentation）来扩展现有的训练和验证数据**  "
   ]
  },
  {
   "cell_type": "markdown",
   "metadata": {},
   "source": [
    "### 损失函数\n",
    "binary_crossentropy交叉熵损失函数，一般用于二分类"
   ]
  }
 ],
 "metadata": {
  "kernelspec": {
   "display_name": "Python 3",
   "language": "python",
   "name": "python3"
  },
  "language_info": {
   "codemirror_mode": {
    "name": "ipython",
    "version": 3
   },
   "file_extension": ".py",
   "mimetype": "text/x-python",
   "name": "python",
   "nbconvert_exporter": "python",
   "pygments_lexer": "ipython3",
   "version": "3.7.0"
  }
 },
 "nbformat": 4,
 "nbformat_minor": 2
}
