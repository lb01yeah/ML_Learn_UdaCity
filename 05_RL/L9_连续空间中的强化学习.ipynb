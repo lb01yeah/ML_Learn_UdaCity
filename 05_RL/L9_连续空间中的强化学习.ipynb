{
 "cells": [
  {
   "cell_type": "markdown",
   "metadata": {},
   "source": [
    "### 离散空间与连续空间\n",
    "在OpenAi Gym中提供的环境，[环境表格](https://github.com/openai/gym/wiki/Table-of-environments),其Discrete(...)表示离散空间，Box(...)表示连续空间。  \n",
    "\n",
    "可以用__离散__表示法表示的是：玩扑克牌时，手中的牌；9 * 9 围棋游戏的棋盘位置；键盘乐器上的按键；\n",
    "\n",
    "### 离散化Discretization\n",
    "离散化就是将连续空间转换为离散空间。\n",
    "\n",
    "### adaptive tile coding\n",
    "得到一个基于空间复杂程度的状态空间的划分。\n",
    "\n",
    "### coarse coding\n",
    "是使用一组更稀疏的特征来表示状态空间。\n",
    "函数逼近，RBF(Radial Basis Functions)\n",
    "\n",
    "### 函数逼近（Function Approximation）\n"
   ]
  },
  {
   "cell_type": "code",
   "execution_count": null,
   "metadata": {},
   "outputs": [],
   "source": []
  }
 ],
 "metadata": {
  "kernelspec": {
   "display_name": "Python 3",
   "language": "python",
   "name": "python3"
  },
  "language_info": {
   "codemirror_mode": {
    "name": "ipython",
    "version": 3
   },
   "file_extension": ".py",
   "mimetype": "text/x-python",
   "name": "python",
   "nbconvert_exporter": "python",
   "pygments_lexer": "ipython3",
   "version": "3.6.5"
  }
 },
 "nbformat": 4,
 "nbformat_minor": 2
}
