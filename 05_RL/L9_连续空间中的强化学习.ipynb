{
 "cells": [
  {
   "cell_type": "markdown",
   "metadata": {},
   "source": [
    "### 离散空间与连续空间\n",
    "在OpenAi Gym中提供的环境，[环境表格](https://github.com/openai/gym/wiki/Table-of-environments),其Discrete(...)表示离散空间，Box(...)表示连续空间。  \n",
    "\n",
    "可以用__离散__表示法表示的是：玩扑克牌时，手中的牌；9 * 9 围棋游戏的棋盘位置；键盘乐器上的按键；\n",
    "\n",
    "### 离散化Discretization\n",
    "离散化就是将连续空间转换为离散空间。\n",
    "\n",
    "### adaptive tile coding\n",
    "得到一个基于空间复杂程度的状态空间的划分。\n",
    "\n",
    "### coarse coding\n",
    "是使用一组更稀疏的特征来表示状态空间。\n",
    "函数逼近，RBF(Radial Basis Functions)\n",
    "\n",
    "### 函数逼近（Function Approximation）\n",
    "对于具有连续状态 $s \\in \\mathcal{S} = {\\mathbb{R}^{n}}$的问题领域，我们希望有一种方式能表示值函数$ v_{\\pi}(s)$（针对预测） 或 $q_{\\pi}(s, a)$（针对控制）。\n",
    "\n",
    "为此，我们可以选择一个__逼近__真值函数的参数化函数：\n",
    "\n",
    "$\\hat{v}(s, \\mathbf{w}) \\approx v_{\\pi}(s) $  \n",
    "\n",
    "$\\hat{q}(s, a, \\mathbf{w}) \\approx q_{\\pi}(s, a) $\n",
    "\n",
    "我们的目标变成找到一组生成最优函数的参数$ \\mathbf{w}$。我们可以通过蒙特卡洛或时间差分方法使用一般强化学习框架，并根据所选函数修改更新机制。\n",
    "\n",
    "**特征向量**\n",
    "一个常见的中间步骤是计算表示状态的特征向量：$ \\mathbf{x}(s)$\n",
    "\n",
    "\n",
    "### 线性函数逼近\n",
    "线性函数：$\\hat{v}(s, \\mathbf{w}) = X(s)^{T}·\\mathbf{w}$  \n",
    "线性函数是所有特征乘以相应的权重，如何调整W以使逼近函数越来越接近真实函数？  \n",
    "使用__梯度下降__找到最优参数向量.  \n",
    "限制：只能表示输入和输出之间的线性关系。"
   ]
  },
  {
   "cell_type": "markdown",
   "metadata": {},
   "source": [
    "### 内核函数 kernel functions\n",
    "(又称基函数)\n",
    "径向基函数（Radial Basis Functions）\n",
    "\n",
    "### 非线性函数逼近 non-linear function approximation\n"
   ]
  },
  {
   "cell_type": "markdown",
   "metadata": {},
   "source": [
    "### 总结\n",
    "传统强化学习使用有限的MDP对环境建模，这就限定了只能处理具有离散状态和动作空间的环境。  \n",
    "\n",
    "如何将学习算法扩展到连续空间（continuous spaces）? \n",
    "- 可以尝试离散化状态空间或尝试逼近期望的值函数。\n",
    "- 使用Tile coding 或 Coarse coding进行离散化，会间接地形成值函数的逼近结果。\n",
    "\n",
    "使用相同的线性组合框架捕获一些非线性关系。为了表示特征组合的非线性关系可以应用一个激活函数。\n"
   ]
  }
 ],
 "metadata": {
  "kernelspec": {
   "display_name": "Python 3",
   "language": "python",
   "name": "python3"
  },
  "language_info": {
   "codemirror_mode": {
    "name": "ipython",
    "version": 3
   },
   "file_extension": ".py",
   "mimetype": "text/x-python",
   "name": "python",
   "nbconvert_exporter": "python",
   "pygments_lexer": "ipython3",
   "version": "3.7.0"
  }
 },
 "nbformat": 4,
 "nbformat_minor": 2
}
