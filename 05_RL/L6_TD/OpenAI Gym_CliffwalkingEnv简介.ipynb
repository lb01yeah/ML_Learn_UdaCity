{
 "cells": [
  {
   "cell_type": "markdown",
   "metadata": {},
   "source": [
    "在 CliffWalking 环境中，智能体会浏览一个 4x12 网格世界。请在该[教科书](http://go.udacity.com/rl-textbook)的示例 6.6 中详细了解悬崖行走任务。阅读完毕后，你可以打开相应的[ GitHub 文件](https://github.com/openai/gym/blob/master/gym/envs/toy_text/cliffwalking.py)并阅读 CliffWalkingEnv 类中的注释部分，详细了解该环境。为了进行说明，我们还在下方贴出了该环境的说明（注意下面指向 Sutton 和 Barto 教科书的链接也许不能打开，建议你使用[此链接](http://go.udacity.com/rl-textbook)来访问该教科书）：\n",
    "```\n",
    "    这是 Gridworld Cliff 强化学习任务的简单实现。\n",
    "    改编自《强化学习：简介》（作者：Sutton 和 Barto）的示例 6.6（第 145 页）\n",
    "    http://people.inf.elte.hu/lorincz/Files/RL_2006/SuttonBook.pdf\n",
    "\n",
    "    灵感来自：\n",
    "    https://github.com/dennybritz/reinforcement-learning/blob/master/lib/envs/cliff_walking.py\n",
    "    该板是一个 4x12 的矩阵（使用 Numpy 矩阵索引）：\n",
    "        左下角的 [3, 0] 是起点\n",
    "        右下角的 [3, 11] 是目标\n",
    "        底部中心的 [3, 1..10] 是悬崖\n",
    "    每个时间步都会获得 -1 奖励，跌入悬崖会获得 -100 奖励并重置为起点。当智能体抵达目标时阶段结束。\n",
    "\n",
    "```"
   ]
  },
  {
   "cell_type": "code",
   "execution_count": null,
   "metadata": {},
   "outputs": [],
   "source": []
  }
 ],
 "metadata": {
  "kernelspec": {
   "display_name": "Python 3",
   "language": "python",
   "name": "python3"
  },
  "language_info": {
   "codemirror_mode": {
    "name": "ipython",
    "version": 3
   },
   "file_extension": ".py",
   "mimetype": "text/x-python",
   "name": "python",
   "nbconvert_exporter": "python",
   "pygments_lexer": "ipython3",
   "version": "3.6.5"
  }
 },
 "nbformat": 4,
 "nbformat_minor": 2
}
