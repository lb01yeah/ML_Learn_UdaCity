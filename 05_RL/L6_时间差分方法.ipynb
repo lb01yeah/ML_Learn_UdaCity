{
 "cells": [
  {
   "cell_type": "markdown",
   "metadata": {},
   "source": [
    "## 时间差分或TD学习（Temporal Difference or TD learning）\n",
    "\n",
    "在蒙特卡洛学习方法中，它需要结束一个阶段，以便计算回报；然后用回报来估算动作值。  \n",
    "\n",
    "TD Learning 会在每个时间步都做修改预测，而不是在等待互动结束后才更新值。可以使用TD学习解决连续性任务(continuous tasks)和阶段性任务(episodic tasks)。\n"
   ]
  },
  {
   "cell_type": "markdown",
   "metadata": {},
   "source": [
    "### TD预测\n",
    "（强化学习中的预测问题）：给定一个策略，如何估算(estimate)其值函数？  \n"
   ]
  }
 ],
 "metadata": {
  "kernelspec": {
   "display_name": "Python 3",
   "language": "python",
   "name": "python3"
  },
  "language_info": {
   "codemirror_mode": {
    "name": "ipython",
    "version": 3
   },
   "file_extension": ".py",
   "mimetype": "text/x-python",
   "name": "python",
   "nbconvert_exporter": "python",
   "pygments_lexer": "ipython3",
   "version": "3.6.5"
  }
 },
 "nbformat": 4,
 "nbformat_minor": 2
}
