{
 "cells": [
  {
   "cell_type": "markdown",
   "metadata": {},
   "source": [
    "### 简介\n",
    "是一种如何使用神经网络解决强化学习问题的精彩算法。\n",
    "学习如何利用神经网络包括卷积神经网络和递归神经网络学习解决强化学习问题。"
   ]
  },
  {
   "cell_type": "markdown",
   "metadata": {},
   "source": [
    "### 蒙特卡洛学习Monte carlo learning\n",
    "注意：蒙特卡洛学习通常肯定会收敛于局部最优；对于线性函数逼近，它将收敛于全局最优。  \n",
    "\n",
    "### 时间差分学习 Temporal Difference learning\n",
    "\n",
    "### Q Learning\n",
    "注意：因为 SARSA 和 Q 学习都是 TD 方法，它们都有一个缺点，即使用非线性算法逼近时，可能无法收敛于全局最优。\n",
    "\n",
    "__阅读延伸__\n",
    "Rahimi 和 Recht， 2007 年，[《大规模内核机器的随机特征》](https://s3.cn-north-1.amazonaws.com.cn/static-documents/nd101/MLND+documents/randomfeatures.pdf) \n",
    "将会提供类似于 RBF 内核转换的有效逼近。\n"
   ]
  },
  {
   "cell_type": "markdown",
   "metadata": {},
   "source": [
    "### 深度Q learning算法\n",
    "\n",
    "### 实现深度Q学习\n",
    "\n",
    "#### Tensorflow实现\n",
    "深度 Q 学习算法 TensorFlow 实现的 Jupyter notebook。  \n",
    "\n",
    "\n",
    "\n",
    "#### (Keras) https://keon.io/deep-q-learning/\n",
    "#### (PyTorch) http://pytorch.org/tutorials/intermediate/reinforcement_q_learning.html"
   ]
  },
  {
   "cell_type": "code",
   "execution_count": null,
   "metadata": {},
   "outputs": [],
   "source": []
  }
 ],
 "metadata": {
  "kernelspec": {
   "display_name": "Python 3",
   "language": "python",
   "name": "python3"
  },
  "language_info": {
   "codemirror_mode": {
    "name": "ipython",
    "version": 3
   },
   "file_extension": ".py",
   "mimetype": "text/x-python",
   "name": "python",
   "nbconvert_exporter": "python",
   "pygments_lexer": "ipython3",
   "version": "3.7.0"
  }
 },
 "nbformat": 4,
 "nbformat_minor": 2
}
