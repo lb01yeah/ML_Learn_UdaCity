{
 "cells": [
  {
   "cell_type": "markdown",
   "metadata": {},
   "source": [
    "请在该[教科书](https://drive.google.com/file/d/1opPSz5AZ_kVa1uWOdOiveNiBFiEOHjkG/view)的第 5.1 个示例中详细了解二十一点游戏。\n",
    "\n",
    "完成后，请查看相应的 [GitHub 文件](https://github.com/openai/gym/blob/master/gym/envs/toy_text/blackjack.py)，并阅读 BlackjackEnv 类的注释部分。（虽然你不需要理解所有代码的原理，但是请阅读注释部分以了解环境的动态特性。）为了进行阐释，我们还在下方摘录了环境说明："
   ]
  },
  {
   "cell_type": "markdown",
   "metadata": {},
   "source": [
    " ```21点规则简介\n",
    "\n",
    "    二十一点是一种扑克牌游戏，目标是尽量使手中牌的总点数达到 21 点，或是接近 21 点，但不能超过，然后与庄家的点数进行比较。人头牌（J、Q、K）的点数是 10。王牌可以是 11 点或 1 点，11 点时“可用”。这种游戏的整副牌是有限的（或者可以替换）。游戏开始时，每个玩家和庄家的一张牌朝上，另一张牌朝下。玩家可以请求更多的牌 (hit=1) 并决定何时停止请求牌(stick=0) 或者超过 21 点（爆牌）。玩家停止请求牌后，庄家翻开扣着的牌，并抽牌，直到所有点数之和是 17 点或大于 17 点。如果庄家爆牌，玩家获胜。\n",
    "\n",
    "    如果玩家或庄家都没爆牌，结果（输赢或持平）由谁的点数更接近 21 点来确定。赢了的奖励是 +1，平局的奖励是 0，输了的奖励是 -1。\n",
    "\n",
    "    包含以下三种状态：玩家的当前点数之和，庄家显示的一张牌（1-10，其中王牌是 1），以及玩家是否拥有可使用的王牌（0 或 1）。\n",
    "\n",
    "    此规则对应于《强化学习引论》（作者：Sutton 和 Barto，1998 年）第 5.1 个示例中介绍的二十一点问题。\n",
    "    http://incompleteideas.net/book/the-book.html \n",
    "```"
   ]
  },
  {
   "cell_type": "code",
   "execution_count": null,
   "metadata": {},
   "outputs": [],
   "source": []
  }
 ],
 "metadata": {
  "kernelspec": {
   "display_name": "Python 3",
   "language": "python",
   "name": "python3"
  },
  "language_info": {
   "codemirror_mode": {
    "name": "ipython",
    "version": 3
   },
   "file_extension": ".py",
   "mimetype": "text/x-python",
   "name": "python",
   "nbconvert_exporter": "python",
   "pygments_lexer": "ipython3",
   "version": "3.6.5"
  }
 },
 "nbformat": 4,
 "nbformat_minor": 2
}
