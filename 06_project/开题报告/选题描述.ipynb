{
 "cells": [
  {
   "cell_type": "markdown",
   "metadata": {},
   "source": [
    "### 报告指南\n",
    "这个项目将依照你提交的书面报告来评估。此外，如果项目需要，其他材料例如数据集也需要被评估。我们要求开题报告需要包含足够的细节、文档、分析以及你对如何完成这个项目的想法的讨论。也正是因为这个原因，按照一个专业标准来撰写报告就显得尤为重要。这可以让每一个审阅你项目提交的人，都可以清晰的找到组成你报告的每一个部分。如果没有按照这个要求写，你的报告可能不会得到充分的审阅。我们特地为你准备了一个开题报告模版，帮助你了解开题报告的结构。同时我们建议的开题报告长度为2到3页。\n",
    "\n",
    "机器学习毕业项目报告应当与学院里的研究报告没有区别。你的目标是呈现一个你选择的特定问题领域内的研究发现，把项目完成过程中的每一个步骤都记录下来。具体描述可见开题报告模版 。它提供了一个\"报告核对单\"，可以帮你完成这个报告。请利用好这个资源！\n",
    "\n",
    "### 选题描述\n",
    "#### 毕业项目\n",
    "在下面这些领域中，选择一个你最感兴趣的内容，用你所学的机器学习和技术解决它。在你的报告中，如果有引用，也一定要注明出处。\n",
    "\n",
    "注意⚠️：由于AI技术的更新迭代迅速，中国教研团队会根据市场热度与技术发展等多重考量，定期进行毕业项目选题的更新。如果你目前已经开始做“老题目”，可以继续完成。不过我们强烈建议你尝试新鲜出炉的选题哦～遇到任何选题上的问题，可以在官网上联系我们。 相信你可以在一次次探索中，得到知识台阶式的提升。\n",
    "\n",
    "##### 自然语言处理\n",
    "- [句子相似度匹配](https://github.com/udacity/cn-machine-learning/tree/master/quora-question-duplicate)\n",
    "\n",
    "##### 数据挖掘\n",
    "- [预测 Rossmann 未来的销售额](https://github.com/udacity/cn-machine-learning/tree/master/Rossmann_Store_Sales)\n",
    "\n",
    "##### 计算机视觉\n",
    "- [猫狗大战](https://github.com/udacity/cn-machine-learning/tree/master/dogs_vs_cats)\n",
    "- [盐块识别挑战(挑战项目)](https://github.com/udacity/MLND-CN-Capstone-TGSImage/blob/master/README.md)\n",
    "\n",
    "无论你最终选择了哪个领域的问题，你都需要用5个主要步骤来完成这个项目，并把步骤记录下来。从问题的定义，到做出一个解决方案。每个步骤在这整个过程中都扮演了非常重要的角色。在你完成项目的过程中，记得要为你的项目报告打草稿，这也是你项目提交的最重要的方面。\n",
    "\n",
    "要查看你的项目和问题是否符合优达学城机器学习毕业项目的要求，请查看这个评判标准。把这些标准记下来。必须符合平板标准中的所有要求，才能算作一个令人满意的报告。"
   ]
  },
  {
   "cell_type": "code",
   "execution_count": null,
   "metadata": {},
   "outputs": [],
   "source": []
  }
 ],
 "metadata": {
  "kernelspec": {
   "display_name": "Python 3",
   "language": "python",
   "name": "python3"
  },
  "language_info": {
   "codemirror_mode": {
    "name": "ipython",
    "version": 3
   },
   "file_extension": ".py",
   "mimetype": "text/x-python",
   "name": "python",
   "nbconvert_exporter": "python",
   "pygments_lexer": "ipython3",
   "version": "3.7.0"
  }
 },
 "nbformat": 4,
 "nbformat_minor": 2
}
